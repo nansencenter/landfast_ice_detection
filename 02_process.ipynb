{
 "cells": [
  {
   "cell_type": "code",
   "execution_count": 1,
   "metadata": {},
   "outputs": [],
   "source": [
    "from datetime import datetime\n",
    "import numpy as np\n",
    "\n",
    "import numpy as np\n",
    "from omegaconf import OmegaConf\n",
    "import matplotlib.pyplot as plt\n",
    "\n",
    "from utils import create_destination_domain, read_s1_sar_gdf, get_overlapping_gdf, LoopProcessor, stack_safe_zip_files, stack_nc_files\n",
    "\n",
    "%matplotlib inline\n"
   ]
  },
  {
   "cell_type": "code",
   "execution_count": null,
   "metadata": {},
   "outputs": [],
   "source": [
    "regional_conf_file = 'svalbard_2019.yml'\n",
    "\n",
    "conf = OmegaConf.load('base.yml')\n",
    "conf = OmegaConf.merge(conf, OmegaConf.load(regional_conf_file))\n",
    "\n",
    "conf.warp_cval = eval(conf.warp_cval)\n",
    "period_start_date = datetime.strptime(conf.period_start_date, '%Y-%m-%d')\n",
    "stack_function = eval(conf.stack_function)\n",
    "dst_dom, landmask, dst_polygon = create_destination_domain(conf)\n",
    "gdf = read_s1_sar_gdf(conf)\n",
    "overlapping_gdf = get_overlapping_gdf(conf, gdf, dst_polygon, plot=True)\n"
   ]
  },
  {
   "cell_type": "code",
   "execution_count": null,
   "metadata": {},
   "outputs": [],
   "source": [
    "lp  = LoopProcessor(conf, dst_dom, landmask, overlapping_gdf, period_start_date, stack_function)\n",
    "lp.loop(4)"
   ]
  },
  {
   "cell_type": "code",
   "execution_count": null,
   "metadata": {},
   "outputs": [],
   "source": []
  }
 ],
 "metadata": {
  "kernelspec": {
   "display_name": "superlimo",
   "language": "python",
   "name": "python3"
  },
  "language_info": {
   "codemirror_mode": {
    "name": "ipython",
    "version": 3
   },
   "file_extension": ".py",
   "mimetype": "text/x-python",
   "name": "python",
   "nbconvert_exporter": "python",
   "pygments_lexer": "ipython3",
   "version": "3.12.8"
  }
 },
 "nbformat": 4,
 "nbformat_minor": 2
}
