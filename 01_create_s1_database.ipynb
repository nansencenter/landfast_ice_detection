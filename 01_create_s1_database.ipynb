{
 "cells": [
  {
   "cell_type": "code",
   "execution_count": null,
   "metadata": {},
   "outputs": [],
   "source": [
    "import glob\n",
    "import os\n",
    "\n",
    "import geopandas as gpd\n",
    "from tqdm.notebook import tqdm\n",
    "from s1cs2lib import s1_nc_geolocation, proj_nps, proj_pc, Polygon\n",
    "from nansat import Nansat"
   ]
  },
  {
   "cell_type": "code",
   "execution_count": null,
   "metadata": {},
   "outputs": [],
   "source": [
    "def get_metadata_nc(ifile):\n",
    "    self = s1_nc_geolocation(ifile)\n",
    "    self.read_geolocation()\n",
    "    self.prepare_interpolators()\n",
    "    polygon = self.get_border_polygon()\n",
    "    start_date = self.get_datetime()\n",
    "    return polygon, start_date\n",
    "\n",
    "def get_metadata_safe_zip(ifile):\n",
    "    n = Nansat(ifile, fast=True)\n",
    "    border_lon, border_lat = n.get_border()\n",
    "    border_x, border_y, _ = proj_nps.transform_points(proj_pc, border_lon, border_lat).T\n",
    "    return Polygon(zip(border_x, border_y)), n.time_coverage_start"
   ]
  },
  {
   "cell_type": "code",
   "execution_count": null,
   "metadata": {},
   "outputs": [],
   "source": [
    "odir = f'/data1/{os.getenv(\"USER\")}/foccus'\n",
    "\n",
    "# ALL APASIP DATA for Jan 2020\n",
    "#idirs = [\n",
    "#    '/Data/sat/downloads/sentinel1/apasip/202001',\n",
    "#]\n",
    "#ext = '*.nc'\n",
    "#metadata_function = get_metadata_nc\n",
    "#ofile = 'apasip_202001.feather'\n",
    "\n",
    "# Svalbard data for 2019\n",
    "#idirs = [\n",
    "#    '/Data/sat/downloads/sentinel1/2019/svalbard',\n",
    "#]\n",
    "#ext = '*.zip'\n",
    "#metadata_function = get_metadata_safe_zip\n",
    "#ofile = 'svalbard_2019.feather'\n",
    "\n",
    "# Greenland data for 2019\n",
    "#idirs = [\n",
    "#    '/Data/sat/downloads/sentinel1/2019/greenland',\n",
    "#]\n",
    "#ext = '*.zip'\n",
    "#metadata_function = get_metadata_safe_zip\n",
    "#ofile = 'greenland_2019.feather'\n",
    "\n",
    "# Greenland data for Feb, March 2020\n",
    "#idirs = [\n",
    "#    '/Data/sat/downloads/sentinel1/2020/greenland',\n",
    "#]\n",
    "#ext = '*.zip'\n",
    "#metadata_function = get_metadata_safe_zip\n",
    "#ofile = 'greenland_2020.feather'\n",
    "\n",
    "# Svalbard data for Feb, March 2020\n",
    "idirs = [\n",
    "    '/Data/sat/downloads/sentinel1/2020/svalbard',\n",
    "]\n",
    "ext = '*.zip'\n",
    "metadata_function = get_metadata_safe_zip\n",
    "ofile = 'svalbard_2020.feather'"
   ]
  },
  {
   "cell_type": "code",
   "execution_count": null,
   "metadata": {},
   "outputs": [],
   "source": [
    "ifiles = []\n",
    "for idir in idirs:\n",
    "    ifiles.extend(glob.glob(f'{idir}/{ext}'))\n",
    "len(ifiles)"
   ]
  },
  {
   "cell_type": "code",
   "execution_count": null,
   "metadata": {},
   "outputs": [],
   "source": [
    "orbits = [int(os.path.basename(ifile).split('_')[6]) for ifile in ifiles]\n",
    "dates = []\n",
    "polygons = []\n",
    "for ifile in tqdm(ifiles):\n",
    "    polygon, start_date = metadata_function(ifile)\n",
    "    polygons.append(polygon)\n",
    "    dates.append(start_date)\n"
   ]
  },
  {
   "cell_type": "code",
   "execution_count": null,
   "metadata": {},
   "outputs": [],
   "source": [
    "gdf = gpd.GeoDataFrame(dict(name=ifiles, orbit=orbits, geometry=polygons, date=dates))\n",
    "gdf.to_feather(f'{odir}/{ofile}')"
   ]
  },
  {
   "cell_type": "code",
   "execution_count": null,
   "metadata": {},
   "outputs": [],
   "source": []
  }
 ],
 "metadata": {
  "kernelspec": {
   "display_name": "superlimo",
   "language": "python",
   "name": "python3"
  },
  "language_info": {
   "codemirror_mode": {
    "name": "ipython",
    "version": 3
   },
   "file_extension": ".py",
   "mimetype": "text/x-python",
   "name": "python",
   "nbconvert_exporter": "python",
   "pygments_lexer": "ipython3",
   "version": "3.12.8"
  }
 },
 "nbformat": 4,
 "nbformat_minor": 2
}
